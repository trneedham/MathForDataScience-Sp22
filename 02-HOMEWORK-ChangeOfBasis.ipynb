{
 "cells": [
  {
   "cell_type": "markdown",
   "metadata": {},
   "source": [
    "# Homework 2\n",
    "\n",
    "In this assignment, we will explore computational aspects of matrix inversion and changes of basis."
   ]
  },
  {
   "cell_type": "code",
   "execution_count": 1,
   "metadata": {},
   "outputs": [],
   "source": [
    "# Import numpy to handle numerical linear algebra\n",
    "import numpy as np"
   ]
  },
  {
   "cell_type": "markdown",
   "metadata": {},
   "source": [
    "## Matrix Inversion\n",
    "\n",
    "We introduced the the notion of an inverse matrix in class. This can be computed by hand (see your textbook), but we can also use built-in `numpy` functions to do it for us.\n",
    "\n",
    "Consider the matrix `A` defined below."
   ]
  },
  {
   "cell_type": "code",
   "execution_count": 2,
   "metadata": {},
   "outputs": [
    {
     "name": "stdout",
     "output_type": "stream",
     "text": [
      "[[1 1 0 0]\n",
      " [2 0 2 0]\n",
      " [3 3 3 0]\n",
      " [0 0 4 4]]\n"
     ]
    }
   ],
   "source": [
    "A = np.array([[1,1,0,0],\n",
    "              [2,0,2,0],\n",
    "              [3,3,3,0],\n",
    "              [0,0,4,4]])\n",
    "\n",
    "print(A)"
   ]
  },
  {
   "cell_type": "markdown",
   "metadata": {},
   "source": [
    "**Problem 1** Figure out how to compute the inverse of `A`. Call the result `A_inv`. Verify that your result has the correct inverse property; i.e., show that `A` times `A_inv` returns the identity matrix. Print out your answers.\n",
    "\n",
    "**General Remark:** To reiterate a comment from the last coding HW: when doing coding exercies, feel free to use any resources you like when completing these assignments (e.g., Google `numpy` documentation).\n",
    "\n",
    "**Remark About Accuracy:** Due to numerical errors, you will frequently get a result which you *expect* to be zero, but which the computer tells you is some extremely small number (e.g., `1e-17`). Don't worry about these numerical errors. If they bother you too much, feel free to figure out how to round your answers when printing them."
   ]
  },
  {
   "cell_type": "code",
   "execution_count": 3,
   "metadata": {},
   "outputs": [],
   "source": [
    "## Your Code for Problem 1 Goes Here"
   ]
  },
  {
   "cell_type": "markdown",
   "metadata": {},
   "source": [
    "Next, consider the matrix `B` defined below."
   ]
  },
  {
   "cell_type": "code",
   "execution_count": 4,
   "metadata": {},
   "outputs": [],
   "source": [
    "B = np.array([[1,1,0,0],\n",
    "             [2,0,-2,0],\n",
    "             [2,0,0,2],\n",
    "             [-1,-1,-2,-2]])"
   ]
  },
  {
   "cell_type": "markdown",
   "metadata": {},
   "source": [
    "**Problem 2** Try computing the inverse of `B` using the same method from the last problem."
   ]
  },
  {
   "cell_type": "code",
   "execution_count": 5,
   "metadata": {},
   "outputs": [],
   "source": [
    "## Your Code for Problem 2 Goes Here"
   ]
  },
  {
   "cell_type": "markdown",
   "metadata": {},
   "source": [
    "You will get an error!\n",
    "\n",
    "Explain the mathematical reason that `B` is not invertible in the box below (convert it to a markdown cell and type your answer)."
   ]
  },
  {
   "cell_type": "code",
   "execution_count": 6,
   "metadata": {},
   "outputs": [],
   "source": [
    "## Your Explanation for Problem 2 Goes Here"
   ]
  },
  {
   "cell_type": "markdown",
   "metadata": {},
   "source": [
    "## Transformation Matrices and Change of Basis"
   ]
  },
  {
   "cell_type": "markdown",
   "metadata": {},
   "source": [
    "Let $V = \\mathbb{R}^3$ and let $W = \\mathbb{R}^2$. Choose ordered bases\n",
    "$$\n",
    "B = \\left(\n",
    "\\left[\\begin{array}{c}\n",
    "1 \\\\\n",
    "0 \\\\\n",
    "0 \\end{array}\\right],\n",
    "\\left[\\begin{array}{c}\n",
    "1 \\\\\n",
    "1 \\\\\n",
    "0 \\end{array}\\right],\n",
    "\\left[\\begin{array}{c}\n",
    "1 \\\\\n",
    "1 \\\\\n",
    "1 \\end{array}\\right]\\right)\n",
    "$$\n",
    "for $V$, and \n",
    "$$\n",
    "C = \\left(\\left[\\begin{array}{c}\n",
    "1 \\\\\n",
    "1 \\end{array} \\right],\n",
    "\\left[ \\begin{array}{c}\n",
    "-1 \\\\\n",
    "1 \\end{array}\\right] \\right)\n",
    "$$\n",
    "for $W$.\n",
    "\n",
    "Let $\\Phi:V \\to W$ be the linear transformation defined on the basis vectors of $B$ by\n",
    "$$\n",
    "\\begin{align*}\n",
    "\\Phi \\left(\\left[\\begin{array}{c}\n",
    "1 \\\\\n",
    "0 \\\\\n",
    "0 \\end{array}\\right] \\right)  &= \\left[\\begin{array}{c}\n",
    "1 \\\\\n",
    "0  \\end{array}\\right] \\\\\n",
    "\\Phi \\left(\\left[\\begin{array}{c}\n",
    "1 \\\\\n",
    "1 \\\\\n",
    "0 \\end{array}\\right] \\right)  &= \\left[\\begin{array}{c}\n",
    "-2 \\\\\n",
    "-1 \\end{array}\\right] \\\\\n",
    "\\Phi \\left(\\left[\\begin{array}{c}\n",
    "1 \\\\\n",
    "1 \\\\\n",
    "1 \\end{array}\\right] \\right)  &= \\left[\\begin{array}{c}\n",
    "1 \\\\\n",
    "5  \\end{array}\\right] \\\\\n",
    "\\end{align*}\n",
    "$$"
   ]
  },
  {
   "cell_type": "markdown",
   "metadata": {},
   "source": [
    "**Problem 3** Create the transformation matrix for $\\Phi$ with respect to the bases $B$ and $C$. Call the matrix `A_Phi` in your code; we will denote it $A_\\Phi$ in the text below. Print your answer."
   ]
  },
  {
   "cell_type": "code",
   "execution_count": 2,
   "metadata": {},
   "outputs": [],
   "source": [
    "## Your Code for Problem 3 Goes Here"
   ]
  },
  {
   "cell_type": "markdown",
   "metadata": {},
   "source": [
    "Now suppose that we have another basis $\\overline{B}$ for $V$ and another basis $\\overline{C}$ for $W$. Theorem 2.20 from the text book gives a formula for computing the transformation matrix for $\\Phi$ with respect to these new bases---call this matrix $\\overline{A}_\\Phi$. The formula is \n",
    "$$\n",
    "\\overline{A}_\\Phi = T^{-1} A_\\Phi S,\n",
    "$$\n",
    "where $S$ is the transformation matrix for the identity map $\\mathrm{id}_V$ with respect to the bases $\\overline{B}$ and $B$ and $T$ is the transformation for the identity map $\\mathrm{id}_W$ with respect to the bases $\\overline{C}$ and $C$. $T^{-1}$ is the matrix inverse of $T$.\n",
    "\n",
    "**Note:** This formula holds in general, not just for the specific example we are looking at!"
   ]
  },
  {
   "cell_type": "markdown",
   "metadata": {},
   "source": [
    "**Problem 4** Let $\\overline{B}$ be the standard basis for $\\mathbb{R}^3$ and $\\overline{C}$ the standard basis for $\\mathbb{R}^2$. Construct the matrices $S$ and $T$ from the formula for our specific example; call them `S` and `T` in your code. Use these matrices to construct $\\overline{A}_\\Phi$ using the formula above; call your answer `A_Phi_bar`. Print your answers `S`, `T` and `A_Phi_bar`."
   ]
  },
  {
   "cell_type": "code",
   "execution_count": 3,
   "metadata": {},
   "outputs": [],
   "source": [
    "## Your Code for Problem 4 Goes Here"
   ]
  },
  {
   "cell_type": "markdown",
   "metadata": {},
   "source": [
    "## Principal Component Analysis\n",
    "\n",
    "In this section, we will give a brief introduction to a tool which is ubiquitous in data science: principal component analysis. To start, we'll creat a toy data set."
   ]
  },
  {
   "cell_type": "code",
   "execution_count": null,
   "metadata": {},
   "outputs": [],
   "source": [
    "# import matplotlib for plotting\n",
    "import matplotlib.pyplot as plt"
   ]
  },
  {
   "cell_type": "code",
   "execution_count": null,
   "metadata": {},
   "outputs": [],
   "source": [
    "N = 500 # Number of points to sample\n",
    "m = 0.8 # Slope\n",
    "\n",
    "xs = np.random.normal(0,1,N)\n",
    "ys = m*xs + np.random.normal(0,0.5,N)\n",
    "\n",
    "plt.figure(figsize = (7,7))\n",
    "plt.scatter(xs,ys)\n",
    "plt.title('Dataset',fontsize = 16)\n",
    "plt.axis('equal')\n",
    "plt.show()"
   ]
  },
  {
   "cell_type": "markdown",
   "metadata": {},
   "source": [
    "Now imagine that each dot in this 'point cloud' is a data point. In practice, data would be high dimensional and hard to visualize, so it is frequently useful to find a 'good basis' which captures the variability of the data. Intuitively, a good basis should line up with the line along which this point cloud appears to be clustered. Such a good basis is frequently used for 'dimension reduction': one can project the data onto a small number of directions which are able to capture the general shape of the data.\n",
    "\n",
    "One process for finding a good basis is called Principal Component Analysis. We will cover the theory behind this in detail in the next few weeks of the course. For now, we will use a 'black box' algorithm to find the basis."
   ]
  },
  {
   "cell_type": "code",
   "execution_count": null,
   "metadata": {},
   "outputs": [],
   "source": [
    "# Import the PCA module from the sklearn package\n",
    "from sklearn.decomposition import PCA\n",
    "\n",
    "X = np.column_stack((xs,ys))\n",
    "pca = PCA(n_components=2) \n",
    "pca.fit(X)\n",
    "eVec = pca.components_ # New basis vectors\n",
    "eVals = pca.singular_values_"
   ]
  },
  {
   "cell_type": "markdown",
   "metadata": {},
   "source": [
    "We plot the point cloud below, with our new PCA basis drawn over the top. The basis vectors have been scaled according to the variability that they capture (using the `eVals` data from the PCA computation).\n",
    "\n",
    "Observe that the new basis aligns very well with the point cloud."
   ]
  },
  {
   "cell_type": "code",
   "execution_count": null,
   "metadata": {},
   "outputs": [],
   "source": [
    "plt.scatter(X[:, 0], X[:, 1], alpha=0.2)\n",
    "\n",
    "# Syntax for quiver:\n",
    "# plt.quiver(xVal for basepoint, yVal for basepoint, xVal for vector, yVal for vector, scale = )\n",
    "plt.quiver(0, 0, eVals[0]*eVec[0,0], eVals[0]*eVec[0,1], scale=75)\n",
    "plt.quiver(0, 0, eVals[1]*eVec[1,0], eVals[1]*eVec[1,1], scale=75)\n",
    "\n",
    "plt.axis('equal');"
   ]
  },
  {
   "cell_type": "markdown",
   "metadata": {},
   "source": [
    "**Problem 5** Play around with the various parameters in the code for this section and try to figure out what they do. **You don't have to turn in an answer for this problem.** "
   ]
  }
 ],
 "metadata": {
  "kernelspec": {
   "display_name": "Python 3",
   "language": "python",
   "name": "python3"
  },
  "language_info": {
   "codemirror_mode": {
    "name": "ipython",
    "version": 3
   },
   "file_extension": ".py",
   "mimetype": "text/x-python",
   "name": "python",
   "nbconvert_exporter": "python",
   "pygments_lexer": "ipython3",
   "version": "3.7.4"
  }
 },
 "nbformat": 4,
 "nbformat_minor": 2
}
