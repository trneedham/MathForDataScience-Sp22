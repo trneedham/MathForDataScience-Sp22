{
 "cells": [
  {
   "cell_type": "markdown",
   "metadata": {},
   "source": [
    "# Homework 1\n",
    "\n",
    "In this notebook, you will use the `numpy` library to do some basic tasks in linear algebra."
   ]
  },
  {
   "cell_type": "code",
   "execution_count": null,
   "metadata": {},
   "outputs": [],
   "source": [
    "import numpy as np"
   ]
  },
  {
   "cell_type": "markdown",
   "metadata": {},
   "source": [
    "## Matrix Algebra"
   ]
  },
  {
   "cell_type": "markdown",
   "metadata": {},
   "source": [
    "Some `numpy` arrays (i.e., matrices) are defined in the next cell."
   ]
  },
  {
   "cell_type": "code",
   "execution_count": null,
   "metadata": {},
   "outputs": [],
   "source": [
    "A = np.array([[0,1,2],\n",
    "              [3,4,5]])\n",
    "\n",
    "B = np.array([[-1,-1,-1,-1],\n",
    "             [0,1,2,3],\n",
    "             [-3,-2,-1,0]])"
   ]
  },
  {
   "cell_type": "markdown",
   "metadata": {},
   "source": [
    "To show the matrices in a somewhat readable way, we can use the `print` function."
   ]
  },
  {
   "cell_type": "code",
   "execution_count": null,
   "metadata": {},
   "outputs": [],
   "source": [
    "print(A)\n",
    "print(B)"
   ]
  },
  {
   "cell_type": "markdown",
   "metadata": {},
   "source": [
    "To determine the shape of a matrix, use the `shape` attribute as follows."
   ]
  },
  {
   "cell_type": "code",
   "execution_count": null,
   "metadata": {},
   "outputs": [],
   "source": [
    "A.shape"
   ]
  },
  {
   "cell_type": "markdown",
   "metadata": {},
   "source": [
    "Note: The shapes of these particular matrices are obvious, by inspection, but the shape attribute of a `numpy` array is something that you will use frequently when coding!"
   ]
  },
  {
   "cell_type": "markdown",
   "metadata": {},
   "source": [
    "**Problem 1** Figure out how to multiply the `numpy` array `A` by the number 3. Call your answer `C`. Figure out how to use `numpy` to multiply the matrices `A` and `B`. Call the result `D`. Print out your answers `C` and `D`.\n",
    "\n",
    "**General Remark:** When doing coding exercies, Google is your friend! Feel free to use any resources you like when completing these assignments."
   ]
  },
  {
   "cell_type": "code",
   "execution_count": null,
   "metadata": {},
   "outputs": [],
   "source": [
    "## Your Code for Problem 1 Goes Here"
   ]
  },
  {
   "cell_type": "markdown",
   "metadata": {},
   "source": [
    "There is a matrix operation called *transpose* which we haven't yet defined in class (although you may have seen it before). It is done in `numpy` by appending `.T` to a `numpy` array. For example:"
   ]
  },
  {
   "cell_type": "code",
   "execution_count": null,
   "metadata": {},
   "outputs": [],
   "source": [
    "A.T"
   ]
  },
  {
   "cell_type": "markdown",
   "metadata": {},
   "source": [
    "**Problem 2** Define a new `numpy` array called `X`. This array can be anything you want. Print out your array `X` and then print its transpose."
   ]
  },
  {
   "cell_type": "code",
   "execution_count": null,
   "metadata": {},
   "outputs": [],
   "source": [
    "## Your Code for Problem 2 Goes Here"
   ]
  },
  {
   "cell_type": "markdown",
   "metadata": {},
   "source": [
    "Change the cell below to a 'Markdown' cell and type a description (in your own words) of what the transpose operation does to a matrix, in general."
   ]
  },
  {
   "cell_type": "code",
   "execution_count": null,
   "metadata": {},
   "outputs": [],
   "source": []
  },
  {
   "cell_type": "markdown",
   "metadata": {},
   "source": [
    "## Solving Systems of Linear Equations"
   ]
  },
  {
   "cell_type": "markdown",
   "metadata": {},
   "source": [
    "There is a simple `numpy` function for solving *certain types* of systems of linear equations. For example:"
   ]
  },
  {
   "cell_type": "code",
   "execution_count": null,
   "metadata": {},
   "outputs": [],
   "source": [
    "# Define a coefficient array\n",
    "A = np.array([[0,1,-2],\n",
    "              [-1,1,3],\n",
    "              [5,4,3]])\n",
    "\n",
    "# Define the right hand side of the system of equations\n",
    "b = np.array([-1,-2,-3])\n",
    "\n",
    "# Solve the equation Ax = b for x\n",
    "x = np.linalg.solve(A, b)\n",
    "print('The solution is', x)"
   ]
  },
  {
   "cell_type": "markdown",
   "metadata": {},
   "source": [
    "**Problem 3** Check that the solution above is correct. (I.e., verify that it satisfies the system of equations. This should only take about a line of code.)"
   ]
  },
  {
   "cell_type": "code",
   "execution_count": null,
   "metadata": {},
   "outputs": [],
   "source": [
    "## Your Code for Problem 3 Goes Here"
   ]
  },
  {
   "cell_type": "markdown",
   "metadata": {},
   "source": [
    "**Problem 4** Make up a new system of linear equations and find its solution. Make sure to print the solution.\n",
    "\n",
    "**Note:** Depending on the system you pick, this function may give you an error! This has to do with the fact that this function can only solve *certain types* of systems. Think about what special systems this function might be designed to solve. Keep trying to come up with a new system until you are successful."
   ]
  },
  {
   "cell_type": "code",
   "execution_count": null,
   "metadata": {},
   "outputs": [],
   "source": [
    "## Your Code for Problem 4 Goes Here"
   ]
  },
  {
   "cell_type": "markdown",
   "metadata": {},
   "source": [
    "### Underdetermined Systems\n",
    "\n",
    "Hopefully you spent some time thinking about which types of systems the function from Problem 3 is able to solve, because I'm about to give it away...\n",
    "\n",
    "The `np.linalg.solve` function is only designed to solve systems of linear equations for which the number of equations is equal to the number of variables and for which there is exactly one solution. To get a solution to an *underdetermined* system (more variables than equations), we will have to be a bit trickier.\n",
    "\n",
    "Consider the following system."
   ]
  },
  {
   "cell_type": "code",
   "execution_count": null,
   "metadata": {},
   "outputs": [],
   "source": [
    "A = np.array([[1,1,2,3],\n",
    "              [0,0,2,4]])\n",
    "\n",
    "b = np.array([2,3])"
   ]
  },
  {
   "cell_type": "markdown",
   "metadata": {},
   "source": [
    "The `np.linalg.solve` function will give us an error if we try to solve this:"
   ]
  },
  {
   "cell_type": "code",
   "execution_count": null,
   "metadata": {},
   "outputs": [],
   "source": [
    "np.linalg.solve(A,b)"
   ]
  },
  {
   "cell_type": "markdown",
   "metadata": {},
   "source": [
    "We expect infinitely many solutions to such a system, so what would a 'solution' even look like, computationally? First, we can try to find a *particular solution*. We can use the 'least squares' function `np.linalg.lstsq` to find a particular solution which is optimal in some sense (if you've seen the concept of a norm before, it is a solution with the smallest possible norm --- not so important to know this detail for now)."
   ]
  },
  {
   "cell_type": "code",
   "execution_count": null,
   "metadata": {
    "scrolled": true
   },
   "outputs": [],
   "source": [
    "results = np.linalg.lstsq(A, b, rcond = None)\n",
    "# rcond is a parameter used to improve numerical stability. You can ignore it for now."
   ]
  },
  {
   "cell_type": "markdown",
   "metadata": {},
   "source": [
    "**Note:** You may get a deprecation warning when running the above. You can ignore it!\n",
    "\n",
    "The `results` variable contains a few things, and we can get the solution by picking out the first thing using the following code."
   ]
  },
  {
   "cell_type": "code",
   "execution_count": null,
   "metadata": {},
   "outputs": [],
   "source": [
    "x0=results[0]\n",
    "print(f'A solution is {x0}')"
   ]
  },
  {
   "cell_type": "markdown",
   "metadata": {},
   "source": [
    "We can check that this is really a solution (note that matrix multiplication is being used below, so this shows a possible answer to part of Problem 1...):"
   ]
  },
  {
   "cell_type": "code",
   "execution_count": null,
   "metadata": {},
   "outputs": [],
   "source": [
    "print(A@x0)\n",
    "print(b)"
   ]
  },
  {
   "cell_type": "markdown",
   "metadata": {},
   "source": [
    "Recall from class that we can describe the general equation by solving the homogeneous equation $A \\vec{x} = \\vec{0}$. This can be done by using another function called `null_space` from the package `scipy`."
   ]
  },
  {
   "cell_type": "code",
   "execution_count": null,
   "metadata": {},
   "outputs": [],
   "source": [
    "from scipy.linalg import null_space"
   ]
  },
  {
   "cell_type": "code",
   "execution_count": null,
   "metadata": {},
   "outputs": [],
   "source": [
    "N = null_space(A)\n",
    "print(N)"
   ]
  },
  {
   "cell_type": "markdown",
   "metadata": {},
   "source": [
    "Each column of $N$ gives a solution to the homogeneous equation. The next code block creates a variable for each of these columns."
   ]
  },
  {
   "cell_type": "code",
   "execution_count": null,
   "metadata": {},
   "outputs": [],
   "source": [
    "u = N[:,0]\n",
    "v = N[:,1]\n",
    "\n",
    "print(u)\n",
    "print(v)"
   ]
  },
  {
   "cell_type": "markdown",
   "metadata": {},
   "source": [
    "In class we showed that any solution of our original system of equations $A\\vec{x} = \\vec{b}$ can be written as $\\vec{x}_0 + \\lambda_1 \\vec{u} + \\lambda_2 \\vec{v}$, where $\\vec{x}$ is our particular solution, $\\vec{u},\\vec{v}$ are solutions to the homogeneous equation and $\\lambda_1$ and $\\lambda_2$ are arbitrary real numbers.\n",
    "\n",
    "**Problem 5** Create three different vectors of this form and show that each of them solves the system of equations. \n",
    "\n",
    "(To clarify, vectors of this form are obtained by choosing two specific real numbers $\\lambda_1$ and $\\lambda_2$ and plugging them into the formula.)"
   ]
  },
  {
   "cell_type": "code",
   "execution_count": null,
   "metadata": {},
   "outputs": [],
   "source": [
    "## Your Code for Problem 5 Goes Here"
   ]
  }
 ],
 "metadata": {
  "kernelspec": {
   "display_name": "Python 3",
   "language": "python",
   "name": "python3"
  },
  "language_info": {
   "codemirror_mode": {
    "name": "ipython",
    "version": 3
   },
   "file_extension": ".py",
   "mimetype": "text/x-python",
   "name": "python",
   "nbconvert_exporter": "python",
   "pygments_lexer": "ipython3",
   "version": "3.8.8"
  }
 },
 "nbformat": 4,
 "nbformat_minor": 2
}
